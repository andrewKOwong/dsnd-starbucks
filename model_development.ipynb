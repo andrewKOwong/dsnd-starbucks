{
 "cells": [
  {
   "cell_type": "markdown",
   "id": "2bc7ff5e-ab37-4906-a102-6cd1dd929525",
   "metadata": {},
   "source": [
    "Let's do some model development."
   ]
  },
  {
   "cell_type": "markdown",
   "id": "a9e54311-4e01-491e-a907-6441115cc715",
   "metadata": {},
   "source": [
    "We're trying to prod people to spend money. Assuming no long term effects like: retention rates, customer annoyance, long term habit building, customer satisfaction. So we're trying to prod them to spend money over the short term.\n",
    "\n",
    "Business scenarios:\n",
    "\n",
    "- Assuming no transaction history built into model.\n",
    "    - New customer, no demo info, what to offer them.\n",
    "        - Basically no info at all. Offer aggregate best, or in model solely with customer length.\n",
    "    - New customer, demo info, what to offer them.\n",
    "        - Use model based on age, gender, income, possibly in model with customer length.\n",
    "    - Existing customer, no demo info, what to offer them.\n",
    "        - Use model based on customer length. Possibly by year as bin.\n",
    "    - Existing customer, demo info, what to offer them.\n",
    "        - Use model based on age, gender, income, customer length.\n",
    "        \n",
    "So we're looking for a way to pick out which offer to give a customer.\n",
    "\n",
    "In our data, customers are only exposed to a maximum of 6 offers, with a median of 4 unique offers.\n"
   ]
  },
  {
   "cell_type": "code",
   "execution_count": 1,
   "id": "326821c3-1f65-4f46-86c1-4e87ee0e6e7e",
   "metadata": {},
   "outputs": [],
   "source": [
    "# Imports\n",
    "import numpy as np\n",
    "import pandas as pd\n",
    "import seaborn as sns\n",
    "import matplotlib.pyplot as plt\n",
    "\n",
    "# Sklearn\n",
    "from sklearn.model_selection import train_test_split\n",
    "from sklearn.neighbors import KNeighborsClassifier\n",
    "from sklearn.ensemble import RandomForestClassifier\n",
    "from sklearn.preprocessing import normalize, StandardScaler\n",
    "from sklearn.metrics import f1_score\n",
    "from sklearn.pipeline import Pipeline\n",
    "from sklearn.model_selection import GridSearchCV\n",
    "\n",
    "# Sometimes use display instead of print\n",
    "from IPython.display import display\n",
    "\n",
    "# debugging\n",
    "from IPython.core.debugger import set_trace"
   ]
  },
  {
   "cell_type": "code",
   "execution_count": 2,
   "id": "1feeb91b-091c-4148-982f-54046fa9fea5",
   "metadata": {},
   "outputs": [],
   "source": [
    "# Read the cleaned data\n",
    "portfolio = pd.read_csv('./data/portfolio_clean.csv')\n",
    "profile = pd.read_csv('./data/profile_clean.csv')\n",
    "transcript = pd.read_csv('./data/transcript_clean.csv')"
   ]
  },
  {
   "cell_type": "code",
   "execution_count": 3,
   "id": "3ff153a6-ab58-4327-bcc1-2aca8de4e693",
   "metadata": {},
   "outputs": [
    {
     "data": {
      "text/html": [
       "<div>\n",
       "<style scoped>\n",
       "    .dataframe tbody tr th:only-of-type {\n",
       "        vertical-align: middle;\n",
       "    }\n",
       "\n",
       "    .dataframe tbody tr th {\n",
       "        vertical-align: top;\n",
       "    }\n",
       "\n",
       "    .dataframe thead th {\n",
       "        text-align: right;\n",
       "    }\n",
       "</style>\n",
       "<table border=\"1\" class=\"dataframe\">\n",
       "  <thead>\n",
       "    <tr style=\"text-align: right;\">\n",
       "      <th></th>\n",
       "      <th>offer_id</th>\n",
       "      <th>web</th>\n",
       "      <th>email</th>\n",
       "      <th>mobile</th>\n",
       "      <th>social</th>\n",
       "      <th>offer_type</th>\n",
       "      <th>duration</th>\n",
       "      <th>difficulty</th>\n",
       "      <th>reward</th>\n",
       "    </tr>\n",
       "  </thead>\n",
       "  <tbody>\n",
       "    <tr>\n",
       "      <th>0</th>\n",
       "      <td>1</td>\n",
       "      <td>0</td>\n",
       "      <td>1</td>\n",
       "      <td>1</td>\n",
       "      <td>1</td>\n",
       "      <td>bogo</td>\n",
       "      <td>168</td>\n",
       "      <td>10</td>\n",
       "      <td>10</td>\n",
       "    </tr>\n",
       "    <tr>\n",
       "      <th>1</th>\n",
       "      <td>2</td>\n",
       "      <td>1</td>\n",
       "      <td>1</td>\n",
       "      <td>1</td>\n",
       "      <td>1</td>\n",
       "      <td>bogo</td>\n",
       "      <td>120</td>\n",
       "      <td>10</td>\n",
       "      <td>10</td>\n",
       "    </tr>\n",
       "    <tr>\n",
       "      <th>2</th>\n",
       "      <td>3</td>\n",
       "      <td>1</td>\n",
       "      <td>1</td>\n",
       "      <td>1</td>\n",
       "      <td>0</td>\n",
       "      <td>informational</td>\n",
       "      <td>96</td>\n",
       "      <td>0</td>\n",
       "      <td>0</td>\n",
       "    </tr>\n",
       "    <tr>\n",
       "      <th>3</th>\n",
       "      <td>4</td>\n",
       "      <td>1</td>\n",
       "      <td>1</td>\n",
       "      <td>1</td>\n",
       "      <td>0</td>\n",
       "      <td>bogo</td>\n",
       "      <td>168</td>\n",
       "      <td>5</td>\n",
       "      <td>5</td>\n",
       "    </tr>\n",
       "    <tr>\n",
       "      <th>4</th>\n",
       "      <td>5</td>\n",
       "      <td>1</td>\n",
       "      <td>1</td>\n",
       "      <td>0</td>\n",
       "      <td>0</td>\n",
       "      <td>discount</td>\n",
       "      <td>240</td>\n",
       "      <td>20</td>\n",
       "      <td>5</td>\n",
       "    </tr>\n",
       "  </tbody>\n",
       "</table>\n",
       "</div>"
      ],
      "text/plain": [
       "   offer_id  web  email  mobile  social     offer_type  duration  difficulty  \\\n",
       "0         1    0      1       1       1           bogo       168          10   \n",
       "1         2    1      1       1       1           bogo       120          10   \n",
       "2         3    1      1       1       0  informational        96           0   \n",
       "3         4    1      1       1       0           bogo       168           5   \n",
       "4         5    1      1       0       0       discount       240          20   \n",
       "\n",
       "   reward  \n",
       "0      10  \n",
       "1      10  \n",
       "2       0  \n",
       "3       5  \n",
       "4       5  "
      ]
     },
     "metadata": {},
     "output_type": "display_data"
    },
    {
     "data": {
      "text/html": [
       "<div>\n",
       "<style scoped>\n",
       "    .dataframe tbody tr th:only-of-type {\n",
       "        vertical-align: middle;\n",
       "    }\n",
       "\n",
       "    .dataframe tbody tr th {\n",
       "        vertical-align: top;\n",
       "    }\n",
       "\n",
       "    .dataframe thead th {\n",
       "        text-align: right;\n",
       "    }\n",
       "</style>\n",
       "<table border=\"1\" class=\"dataframe\">\n",
       "  <thead>\n",
       "    <tr style=\"text-align: right;\">\n",
       "      <th></th>\n",
       "      <th>customer_id</th>\n",
       "      <th>gender</th>\n",
       "      <th>age</th>\n",
       "      <th>income</th>\n",
       "      <th>became_member_on</th>\n",
       "    </tr>\n",
       "  </thead>\n",
       "  <tbody>\n",
       "    <tr>\n",
       "      <th>0</th>\n",
       "      <td>1</td>\n",
       "      <td>NaN</td>\n",
       "      <td>NaN</td>\n",
       "      <td>NaN</td>\n",
       "      <td>2017-02-12</td>\n",
       "    </tr>\n",
       "    <tr>\n",
       "      <th>1</th>\n",
       "      <td>2</td>\n",
       "      <td>F</td>\n",
       "      <td>55.0</td>\n",
       "      <td>112000.0</td>\n",
       "      <td>2017-07-15</td>\n",
       "    </tr>\n",
       "    <tr>\n",
       "      <th>2</th>\n",
       "      <td>3</td>\n",
       "      <td>NaN</td>\n",
       "      <td>NaN</td>\n",
       "      <td>NaN</td>\n",
       "      <td>2018-07-12</td>\n",
       "    </tr>\n",
       "    <tr>\n",
       "      <th>3</th>\n",
       "      <td>4</td>\n",
       "      <td>F</td>\n",
       "      <td>75.0</td>\n",
       "      <td>100000.0</td>\n",
       "      <td>2017-05-09</td>\n",
       "    </tr>\n",
       "    <tr>\n",
       "      <th>4</th>\n",
       "      <td>5</td>\n",
       "      <td>NaN</td>\n",
       "      <td>NaN</td>\n",
       "      <td>NaN</td>\n",
       "      <td>2017-08-04</td>\n",
       "    </tr>\n",
       "  </tbody>\n",
       "</table>\n",
       "</div>"
      ],
      "text/plain": [
       "   customer_id gender   age    income became_member_on\n",
       "0            1    NaN   NaN       NaN       2017-02-12\n",
       "1            2      F  55.0  112000.0       2017-07-15\n",
       "2            3    NaN   NaN       NaN       2018-07-12\n",
       "3            4      F  75.0  100000.0       2017-05-09\n",
       "4            5    NaN   NaN       NaN       2017-08-04"
      ]
     },
     "metadata": {},
     "output_type": "display_data"
    },
    {
     "data": {
      "text/html": [
       "<div>\n",
       "<style scoped>\n",
       "    .dataframe tbody tr th:only-of-type {\n",
       "        vertical-align: middle;\n",
       "    }\n",
       "\n",
       "    .dataframe tbody tr th {\n",
       "        vertical-align: top;\n",
       "    }\n",
       "\n",
       "    .dataframe thead th {\n",
       "        text-align: right;\n",
       "    }\n",
       "</style>\n",
       "<table border=\"1\" class=\"dataframe\">\n",
       "  <thead>\n",
       "    <tr style=\"text-align: right;\">\n",
       "      <th></th>\n",
       "      <th>customer_id</th>\n",
       "      <th>time</th>\n",
       "      <th>event</th>\n",
       "      <th>amount</th>\n",
       "      <th>reward</th>\n",
       "      <th>offer_id</th>\n",
       "    </tr>\n",
       "  </thead>\n",
       "  <tbody>\n",
       "    <tr>\n",
       "      <th>0</th>\n",
       "      <td>4</td>\n",
       "      <td>0</td>\n",
       "      <td>offer_received</td>\n",
       "      <td>NaN</td>\n",
       "      <td>NaN</td>\n",
       "      <td>4.0</td>\n",
       "    </tr>\n",
       "    <tr>\n",
       "      <th>1</th>\n",
       "      <td>5</td>\n",
       "      <td>0</td>\n",
       "      <td>offer_received</td>\n",
       "      <td>NaN</td>\n",
       "      <td>NaN</td>\n",
       "      <td>5.0</td>\n",
       "    </tr>\n",
       "    <tr>\n",
       "      <th>2</th>\n",
       "      <td>6</td>\n",
       "      <td>0</td>\n",
       "      <td>offer_received</td>\n",
       "      <td>NaN</td>\n",
       "      <td>NaN</td>\n",
       "      <td>10.0</td>\n",
       "    </tr>\n",
       "    <tr>\n",
       "      <th>3</th>\n",
       "      <td>7</td>\n",
       "      <td>0</td>\n",
       "      <td>offer_received</td>\n",
       "      <td>NaN</td>\n",
       "      <td>NaN</td>\n",
       "      <td>7.0</td>\n",
       "    </tr>\n",
       "    <tr>\n",
       "      <th>4</th>\n",
       "      <td>8</td>\n",
       "      <td>0</td>\n",
       "      <td>offer_received</td>\n",
       "      <td>NaN</td>\n",
       "      <td>NaN</td>\n",
       "      <td>2.0</td>\n",
       "    </tr>\n",
       "  </tbody>\n",
       "</table>\n",
       "</div>"
      ],
      "text/plain": [
       "   customer_id  time           event  amount  reward  offer_id\n",
       "0            4     0  offer_received     NaN     NaN       4.0\n",
       "1            5     0  offer_received     NaN     NaN       5.0\n",
       "2            6     0  offer_received     NaN     NaN      10.0\n",
       "3            7     0  offer_received     NaN     NaN       7.0\n",
       "4            8     0  offer_received     NaN     NaN       2.0"
      ]
     },
     "metadata": {},
     "output_type": "display_data"
    }
   ],
   "source": [
    "display(portfolio.head())\n",
    "display(profile.head())\n",
    "display(transcript.head())"
   ]
  },
  {
   "cell_type": "markdown",
   "id": "c8287bc9-ed31-4398-abcd-69fd46bf350f",
   "metadata": {},
   "source": [
    "How to define success?\n",
    "\n",
    "Base line behaviour"
   ]
  },
  {
   "cell_type": "markdown",
   "id": "6c10e708-337d-4449-8424-ed95d0c13346",
   "metadata": {},
   "source": [
    "Split by customers? yes."
   ]
  },
  {
   "cell_type": "code",
   "execution_count": null,
   "id": "8524c9bc-72e5-453e-9e4a-c9d8dea1db7b",
   "metadata": {},
   "outputs": [],
   "source": [
    "# Merge everything first.\n",
    "# df = transcript.merge(profile, how='left', on='customer_id').merge(portfolio, how='left', on='offer_id')"
   ]
  },
  {
   "cell_type": "code",
   "execution_count": null,
   "id": "cbcc8dae-fc9a-406e-933c-8ee50d519c57",
   "metadata": {},
   "outputs": [],
   "source": [
    "# df = df.rename(columns={'reward_x':'reward_transaction', 'reward_y':'offer_reward'})"
   ]
  },
  {
   "cell_type": "code",
   "execution_count": null,
   "id": "89b70f26-0f56-4b93-b8a3-994729e7a9f5",
   "metadata": {},
   "outputs": [],
   "source": [
    "# df.head()"
   ]
  },
  {
   "cell_type": "code",
   "execution_count": null,
   "id": "15405565-d197-4425-8eff-87ba79a9da29",
   "metadata": {},
   "outputs": [],
   "source": [
    "# A list of individual df's from grouping by customer id.\n",
    "# train_customers, test_customers = train_test_split([e[1] for e in df.groupby('customer_id')], test_size=0.3, random_state=7)"
   ]
  },
  {
   "cell_type": "code",
   "execution_count": null,
   "id": "ce8d4bc1-7a94-48d4-a2a0-81d3b891dd38",
   "metadata": {},
   "outputs": [],
   "source": [
    "# display(len(train_customers))\n",
    "# display(len(test_customers))"
   ]
  },
  {
   "cell_type": "code",
   "execution_count": null,
   "id": "1bef19fd-e1d7-4ed5-9bfd-d564074d5777",
   "metadata": {},
   "outputs": [],
   "source": [
    "# def split_transactions_and_offers(customer_list_of_df, transaction_key='transaction'):\n",
    "#     \"\"\"\n",
    "#     Filters a agglomerated dataframe into transactions and offers.\n",
    "    \n",
    "#     Input:\n",
    "#     customers_list_of_df - individual customer dfs in a list\n",
    "#     transaction_key      - str for transaction events\n",
    "    \n",
    "#     Returns:\n",
    "#         List of tuples of transaction and offer event dfs by customer id.\n",
    "#     \"\"\"\n",
    "#     output = []\n",
    "#     # Iterate through the list and split\n",
    "#     for customer in customer_list_of_df:\n",
    "#         # Mask to get transactions\n",
    "#         select = customer.event == transaction_key\n",
    "#         # Filter for transactions and \n",
    "#         output.append((customer[select], customer[~select]))\n",
    "    \n",
    "#     return output\n",
    "    "
   ]
  },
  {
   "cell_type": "code",
   "execution_count": null,
   "id": "22cb91d8-2570-4afa-8746-aa79c121bab7",
   "metadata": {},
   "outputs": [],
   "source": [
    "# train_event_split = split_transactions_and_offers(train_customers)"
   ]
  },
  {
   "cell_type": "code",
   "execution_count": null,
   "id": "5e2f5790-82de-47b2-b0fd-e66ba636f96d",
   "metadata": {},
   "outputs": [],
   "source": [
    "# display(train_event_split[1][0])\n",
    "# print('\\n'*4)\n",
    "# display(train_event_split[1][1])"
   ]
  },
  {
   "cell_type": "markdown",
   "id": "b65e78e0-83fe-4301-883c-c2d57984be50",
   "metadata": {},
   "source": [
    "# Simple KNN or something for only one type of offer? e.g. offer completion.\n",
    "\n",
    "If I had to get a very simple classifier working to:\n",
    "- predict whether off number 1, a bogo offer, was completed or not.\n",
    "- predict based on demographic data.\n",
    "    \n",
    "To do that I would need to classify whether someone:\n",
    "- got offer 1\n",
    "- completed offer 1 within the specified duration\n",
    "\n",
    "I'll split customers into training and validation."
   ]
  },
  {
   "cell_type": "markdown",
   "id": "1597d067-046c-4e98-94ed-6ebbec60b9cd",
   "metadata": {},
   "source": [
    "To figure out if customers completed an offer or not, I'll need to:\n",
    "- filter the transcript for 'offer_received' events for offer 1\n",
    "- for each 'offer_received' event:\n",
    "    - filter the transcript for 'offer_completed' events with time >= time of the received event and time <= t + duration"
   ]
  },
  {
   "cell_type": "markdown",
   "id": "86c09739-9ec2-469e-94a1-9040e7209e66",
   "metadata": {},
   "source": [
    "It's like\n",
    "\n",
    "1) Grab the data by offer\n",
    "2) Prep the data\n",
    "3) Do the modelling and report results.\n",
    "    - KNN pipeline\n",
    "    - other model pipeline\n",
    "4) Overall function."
   ]
  },
  {
   "cell_type": "code",
   "execution_count": 14,
   "id": "1e233b69-66de-48f0-a924-2faa1a56757a",
   "metadata": {},
   "outputs": [],
   "source": [
    "def build_offer_with_demo_action_models(transcript_df,\n",
    "                                        profile_df,\n",
    "                                        portfolio_df,\n",
    "                                        action_dict={'bogo': 'offer_completed',\n",
    "                                                     'discount': 'offer_completed',\n",
    "                                                     'informational': 'offer_viewed'},\n",
    "                                        model_type='knn',\n",
    "                                        test_size=0.3,\n",
    "                                        verbosity=3,\n",
    "                                        random_state=7):\n",
    "    \"\"\"\n",
    "    Get models for offer viewing/completion.\n",
    "    \n",
    "    Input:\n",
    "    transcript_df - Transaction/event transcript dataframe.\n",
    "    profile_df    - Customer profiles.\n",
    "    portfolio_df  - Offer portfolio.\n",
    "    action_dict   - The action should the model predict for per offer.\n",
    "    model_type    - Classifier to use. One of 'knn' (k nearest neighbours)\n",
    "                    or 'rfc' (random forest classifier).\n",
    "    test_size     - Split size for training/test sets.\n",
    "    verbosity     - GridSearchCV verbosity level.\n",
    "    random_state  - random_state to pass down to model building etc.\n",
    "                  \n",
    "    \n",
    "    Returns:\n",
    "    A dict containing keys for the offer id and values that are dicts with:\n",
    "        model   - GridSearchCV model for the offer.\n",
    "        X_train - Training data features.\n",
    "        X_test  - Test data features.\n",
    "        y_train - Training data targets.\n",
    "        y_test  - Test data targets.\n",
    "    \"\"\"\n",
    "    output={}\n",
    "    \n",
    "    # Get offer ids and offer types,\n",
    "    # then generate action type for based on offer type\n",
    "    # (e.g. informational offers can only be viewed, not completed).\n",
    "    offer_ids, offer_types = portfolio_df['offer_id'], portfolio_df['offer_type']\n",
    "    offer_actions = [action_dict[offer_type] for offer_type in offer_types]\n",
    "    \n",
    "    for offer_id, action in zip(offer_ids, offer_actions):\n",
    "        # Get combined customer profile + action completion df\n",
    "        offer_profile = get_offer_action_data(transcript_df, profile_df, offer_id, action, contain_demo=True)\n",
    "        # Get X and y \n",
    "        X, y = separate_x_y(offer_profile)\n",
    "        # Split training and test\n",
    "        X_train, X_test, y_train, y_test = train_test_split(X,\n",
    "                                                    y,\n",
    "                                                    test_size=test_size,\n",
    "                                                    random_state=random_state)\n",
    "        # Switch to build and cross validate a model.\n",
    "        if model_type == 'knn':\n",
    "            model = build_KNN_pipeline_and_fit_CV(X_train, y_train, verbosity=verbosity)\n",
    "        elif model_type == 'rfc':\n",
    "            model = build_RFC_pipeline_and_fit_CV(X_train, y_train, verbosity=verbosity)\n",
    "        else:\n",
    "            raise ValueError(f\"Model of type {model_type} not implemented.\")\n",
    "        \n",
    "        # A output dict is generated for each offer id.\n",
    "        output[offer_id] = {'model': model, \n",
    "                              'X_train': X_train,\n",
    "                              'X_test': X_test,\n",
    "                              'y_train': y_train,\n",
    "                              'y_test': y_test\n",
    "                             }\n",
    "        \n",
    "    return output"
   ]
  },
  {
   "cell_type": "code",
   "execution_count": 5,
   "id": "b4ab6034-c7a1-411b-8728-b48416c28b74",
   "metadata": {},
   "outputs": [],
   "source": [
    "def get_offer_action_data(transcript_df, profile_df, offer_id, action_type, contain_demo=True):\n",
    "    \"\"\"\n",
    "    For a given offer id, generates a df combining customer profiles with \n",
    "    whether they viewed/completed the offer (if they received the offer) over\n",
    "    the course of the experiment.\n",
    "    \n",
    "    Also dummies gender data and converts \"became_member_on\" to \n",
    "    durations of how long a customer has been a customer.\n",
    "    \n",
    "    Input:\n",
    "    transcript_df - Transaction/event transcript dataframe.\n",
    "    profile_df    - Customer profiles.\n",
    "    offer_id      - Offer id to process.\n",
    "    action_type   - 'offer_completed' or 'offer_viewed'.\n",
    "    contain_demo  - If True, returns only customers having age/gender/income demographic data.\n",
    "                    If False, returns only customers without demographic data.\n",
    "    \n",
    "    Returns:\n",
    "    offer_profile - Dataframe containing customer profiles and offer view/completion status.\n",
    "    \"\"\"\n",
    "    tr = transcript_df\n",
    "    pro = profile_df\n",
    "    \n",
    "    # Get set of offering completing and non-completing customer ids\n",
    "    offer_customers = set(tr[(tr.offer_id == offer_id) & (tr.event == 'offer_received')].customer_id)\n",
    "    offer_completed = set(tr[(tr.offer_id == offer_id) & (tr.event == action_type)].customer_id)\n",
    "    offer_incomplete = offer_customers - offer_completed\n",
    "    \n",
    "    # Appending 0/1 for incomplete/complete to customer profile data\n",
    "    profile_complete = pro[pro.customer_id.isin(offer_completed)].assign(offer_complete = 1)\n",
    "    profile_incomplete = pro[pro.customer_id.isin(offer_incomplete)].assign(offer_complete = 0)\n",
    "    \n",
    "    offer_profile = pd.concat([profile_complete, profile_incomplete]).sort_values('customer_id')\n",
    "    \n",
    "    # Customers w/ demographic data\n",
    "    if contain_demo == True:\n",
    "        offer_profile = offer_profile.dropna()\n",
    "    # Customers missing demographic data\n",
    "    else:\n",
    "        offer_profile = offer_profile[offer_profile.isna().any(axis=1)]\n",
    "        \n",
    "    # Clean the data\n",
    "    ## Get dummies for gender\n",
    "    offer_profile = pd.concat([offer_profile,\n",
    "                               pd.get_dummies(offer_profile.gender, prefix=\"gender\")],\n",
    "                              axis=1)\n",
    "    # Change membership date to duration in years of how long customer\n",
    "    # has been a customer.\n",
    "    customer_duration = pd.to_datetime(offer_profile.became_member_on)\n",
    "    customer_duration = (customer_duration.max() - customer_duration).dt.days/365\n",
    "    offer_profile['customer_duration'] = customer_duration\n",
    "    \n",
    "    # Drop unnecessary columns\n",
    "    offer_profile = offer_profile.drop(columns=['gender', 'became_member_on', 'customer_id'])\n",
    "    \n",
    "    return offer_profile\n",
    "    "
   ]
  },
  {
   "cell_type": "code",
   "execution_count": null,
   "id": "14e920e1-91d9-432c-93e5-470bb6bee189",
   "metadata": {},
   "outputs": [],
   "source": [
    "offer1_profile_demo_info = get_offer_completion_data(transcript, profile, offer_id=1, contain_demo=True)"
   ]
  },
  {
   "cell_type": "code",
   "execution_count": null,
   "id": "5184ac3a-350a-467e-9e9d-92b8b5eaa621",
   "metadata": {},
   "outputs": [],
   "source": [
    "offer1_profile_demo_info.head()"
   ]
  },
  {
   "cell_type": "code",
   "execution_count": 6,
   "id": "fde35ac4-e15a-46eb-89fa-2c4718ac8739",
   "metadata": {},
   "outputs": [],
   "source": [
    "def separate_x_y(df, y_key='offer_complete'):\n",
    "    \"\"\"\n",
    "    Takes a df and separates it into X and y by y_key.\n",
    "    \n",
    "    Input:\n",
    "    df     - A dataframe.\n",
    "    y_key  - str of the y target column.\n",
    "    \n",
    "    Returns:\n",
    "    X      - Dataframe without y_key column.\n",
    "    y      - Series from y_key column.\n",
    "    \"\"\"\n",
    "    # Get X and standardize it.\n",
    "    # i.e. mean = 0, unit variance\n",
    "    X = df.drop(columns=y_key)    \n",
    "    y = df[y_key]\n",
    "    \n",
    "    return X, y"
   ]
  },
  {
   "cell_type": "code",
   "execution_count": null,
   "id": "980769bb-b9a8-4d88-a804-459b8beb9e5b",
   "metadata": {},
   "outputs": [],
   "source": [
    "X, y = separate_x_y(offer1_profile_demo_info)"
   ]
  },
  {
   "cell_type": "code",
   "execution_count": null,
   "id": "a3c6b1f5-e379-4264-abd6-8d42bb03f662",
   "metadata": {},
   "outputs": [],
   "source": [
    "X_train, X_test, y_train, y_test = train_test_split(X,\n",
    "                                                    y,\n",
    "                                                    test_size=0.3,\n",
    "                                                    random_state=7)"
   ]
  },
  {
   "cell_type": "code",
   "execution_count": 7,
   "id": "cb1e0a2e-1451-4245-903d-852bef116fec",
   "metadata": {},
   "outputs": [],
   "source": [
    "def build_KNN_pipeline_and_fit_CV(X_train, y_train, verbosity=3, n_neighbors_grid=[1,5,10,20,40,80,160,320,640,1000]):\n",
    "    \"\"\"\n",
    "    Builds a KNN model and fits on training data with cross validation.\n",
    "    \n",
    "    Standardizes X data first before feeding into a KNN model.\n",
    "    \n",
    "    Input:\n",
    "    X_train          - Training data features.\n",
    "    y_train          - Training data targets.\n",
    "    verbosity        - 0, 1, 2, or 3 to control GridSearchCV output.\n",
    "    n_neighbors_grid - Search grid for the number of neighbors for the KNN model.\n",
    "    \n",
    "    Returns:\n",
    "    model            - a GridSearchCV model.\n",
    "    \n",
    "    \"\"\"\n",
    "    pipe = Pipeline([('scaler', StandardScaler()),\n",
    "                         ('knn', KNeighborsClassifier())])\n",
    "    \n",
    "    param_grid = [{'knn__n_neighbors': n_neighbors_grid}]\n",
    "    model = GridSearchCV(pipe, scoring='f1', param_grid=param_grid, cv=5, refit=True, verbose=verbosity, return_train_score=True)\n",
    "    \n",
    "    model.fit(X_train, y_train)\n",
    "    \n",
    "    print(f\"Best params: {model.best_params_}.\")\n",
    "    print(f\"Best score: {round(model.best_score_, 5)}.\")\n",
    "    \n",
    "    return model"
   ]
  },
  {
   "cell_type": "code",
   "execution_count": 8,
   "id": "3868e254-4a5f-485a-ac22-57062a6de1c6",
   "metadata": {},
   "outputs": [],
   "source": [
    "def get_CV_model_scores(model):\n",
    "    \"\"\"\n",
    "    Gets training and cross validation scores form a model.\n",
    "    \n",
    "    Input:\n",
    "    model - an sklearn GridSearchCV model.\n",
    "    \n",
    "    Returns:\n",
    "    mean_train_score - GridSearchCV model mean training scores.\n",
    "    mean_test_scores - GridSearchCV model mean cross validation scores.\n",
    "    \"\"\"\n",
    "    return model.cv_results_['mean_train_score'], model.cv_results_['mean_test_score']"
   ]
  },
  {
   "cell_type": "code",
   "execution_count": 15,
   "id": "03ee2804-17dc-408a-a50e-45c064d4b2a9",
   "metadata": {},
   "outputs": [
    {
     "name": "stdout",
     "output_type": "stream",
     "text": [
      "Fitting 5 folds for each of 10 candidates, totalling 50 fits\n",
      "Best params: {'knn__n_neighbors': 160}.\n",
      "Best score: 0.75268.\n",
      "Fitting 5 folds for each of 10 candidates, totalling 50 fits\n",
      "Best params: {'knn__n_neighbors': 160}.\n",
      "Best score: 0.71826.\n",
      "Fitting 5 folds for each of 10 candidates, totalling 50 fits\n",
      "Best params: {'knn__n_neighbors': 160}.\n",
      "Best score: 0.70603.\n",
      "Fitting 5 folds for each of 10 candidates, totalling 50 fits\n",
      "Best params: {'knn__n_neighbors': 1000}.\n",
      "Best score: 0.7945.\n",
      "Fitting 5 folds for each of 10 candidates, totalling 50 fits\n",
      "Best params: {'knn__n_neighbors': 320}.\n",
      "Best score: 0.7185.\n",
      "Fitting 5 folds for each of 10 candidates, totalling 50 fits\n",
      "Best params: {'knn__n_neighbors': 320}.\n",
      "Best score: 0.86337.\n",
      "Fitting 5 folds for each of 10 candidates, totalling 50 fits\n",
      "Best params: {'knn__n_neighbors': 320}.\n",
      "Best score: 0.87384.\n",
      "Fitting 5 folds for each of 10 candidates, totalling 50 fits\n",
      "Best params: {'knn__n_neighbors': 20}.\n",
      "Best score: 0.94924.\n",
      "Fitting 5 folds for each of 10 candidates, totalling 50 fits\n",
      "Best params: {'knn__n_neighbors': 640}.\n",
      "Best score: 0.78888.\n",
      "Fitting 5 folds for each of 10 candidates, totalling 50 fits\n",
      "Best params: {'knn__n_neighbors': 320}.\n",
      "Best score: 0.77563.\n"
     ]
    }
   ],
   "source": [
    "knn_models = build_offer_with_demo_action_models(transcript, profile, portfolio, model_type='knn', verbosity=1, random_state=7)"
   ]
  },
  {
   "cell_type": "code",
   "execution_count": 41,
   "id": "85f5201f-72ed-4730-8279-bc573b2ecef7",
   "metadata": {},
   "outputs": [
    {
     "name": "stdout",
     "output_type": "stream",
     "text": [
      "Fitting 5 folds for each of 64 candidates, totalling 320 fits\n",
      "Best params: {'rfc__max_depth': None, 'rfc__min_samples_leaf': 8, 'rfc__min_samples_split': 20, 'rfc__n_estimators': 10}.\n",
      "Best score: 0.75759.\n",
      "Fitting 5 folds for each of 64 candidates, totalling 320 fits\n",
      "Best params: {'rfc__max_depth': 100, 'rfc__min_samples_leaf': 8, 'rfc__min_samples_split': 5, 'rfc__n_estimators': 100}.\n",
      "Best score: 0.72039.\n",
      "Fitting 5 folds for each of 64 candidates, totalling 320 fits\n",
      "Best params: {'rfc__max_depth': 100, 'rfc__min_samples_leaf': 8, 'rfc__min_samples_split': 20, 'rfc__n_estimators': 10}.\n",
      "Best score: 0.68864.\n",
      "Fitting 5 folds for each of 64 candidates, totalling 320 fits\n",
      "Best params: {'rfc__max_depth': None, 'rfc__min_samples_leaf': 8, 'rfc__min_samples_split': 10, 'rfc__n_estimators': 100}.\n",
      "Best score: 0.79049.\n",
      "Fitting 5 folds for each of 64 candidates, totalling 320 fits\n",
      "Best params: {'rfc__max_depth': 100, 'rfc__min_samples_leaf': 8, 'rfc__min_samples_split': 20, 'rfc__n_estimators': 100}.\n",
      "Best score: 0.72899.\n",
      "Fitting 5 folds for each of 64 candidates, totalling 320 fits\n",
      "Best params: {'rfc__max_depth': None, 'rfc__min_samples_leaf': 8, 'rfc__min_samples_split': 10, 'rfc__n_estimators': 100}.\n",
      "Best score: 0.86143.\n",
      "Fitting 5 folds for each of 64 candidates, totalling 320 fits\n",
      "Best params: {'rfc__max_depth': 100, 'rfc__min_samples_leaf': 8, 'rfc__min_samples_split': 20, 'rfc__n_estimators': 100}.\n",
      "Best score: 0.87123.\n",
      "Fitting 5 folds for each of 64 candidates, totalling 320 fits\n",
      "Best params: {'rfc__max_depth': 100, 'rfc__min_samples_leaf': 1, 'rfc__min_samples_split': 20, 'rfc__n_estimators': 100}.\n",
      "Best score: 0.94962.\n",
      "Fitting 5 folds for each of 64 candidates, totalling 320 fits\n",
      "Best params: {'rfc__max_depth': 100, 'rfc__min_samples_leaf': 8, 'rfc__min_samples_split': 10, 'rfc__n_estimators': 100}.\n",
      "Best score: 0.77337.\n",
      "Fitting 5 folds for each of 64 candidates, totalling 320 fits\n",
      "Best params: {'rfc__max_depth': 100, 'rfc__min_samples_leaf': 8, 'rfc__min_samples_split': 20, 'rfc__n_estimators': 10}.\n",
      "Best score: 0.77229.\n"
     ]
    }
   ],
   "source": [
    "rfc_models = build_offer_with_demo_action_models(transcript, profile, portfolio, model_type='rfc', verbosity=1, random_state=7)"
   ]
  },
  {
   "cell_type": "code",
   "execution_count": 18,
   "id": "b60a602e-091e-4062-90a8-458af77e6852",
   "metadata": {},
   "outputs": [
    {
     "data": {
      "text/plain": [
       "dict_keys(['model', 'X_train', 'X_test', 'y_train', 'y_test'])"
      ]
     },
     "execution_count": 18,
     "metadata": {},
     "output_type": "execute_result"
    }
   ],
   "source": [
    "knn_models[1].keys()"
   ]
  },
  {
   "cell_type": "code",
   "execution_count": null,
   "id": "fe2f6524-0925-4382-b443-bfecca5e877c",
   "metadata": {},
   "outputs": [],
   "source": [
    "knn"
   ]
  },
  {
   "cell_type": "code",
   "execution_count": 22,
   "id": "de26dd57-5739-4d48-9aa6-5474ca5c2516",
   "metadata": {},
   "outputs": [
    {
     "data": {
      "text/html": [
       "<div>\n",
       "<style scoped>\n",
       "    .dataframe tbody tr th:only-of-type {\n",
       "        vertical-align: middle;\n",
       "    }\n",
       "\n",
       "    .dataframe tbody tr th {\n",
       "        vertical-align: top;\n",
       "    }\n",
       "\n",
       "    .dataframe thead th {\n",
       "        text-align: right;\n",
       "    }\n",
       "</style>\n",
       "<table border=\"1\" class=\"dataframe\">\n",
       "  <thead>\n",
       "    <tr style=\"text-align: right;\">\n",
       "      <th></th>\n",
       "      <th>age</th>\n",
       "      <th>income</th>\n",
       "      <th>gender_F</th>\n",
       "      <th>gender_M</th>\n",
       "      <th>gender_O</th>\n",
       "      <th>customer_duration</th>\n",
       "    </tr>\n",
       "  </thead>\n",
       "  <tbody>\n",
       "    <tr>\n",
       "      <th>11645</th>\n",
       "      <td>54.0</td>\n",
       "      <td>55000.0</td>\n",
       "      <td>0</td>\n",
       "      <td>1</td>\n",
       "      <td>0</td>\n",
       "      <td>2.331507</td>\n",
       "    </tr>\n",
       "    <tr>\n",
       "      <th>4380</th>\n",
       "      <td>41.0</td>\n",
       "      <td>53000.0</td>\n",
       "      <td>0</td>\n",
       "      <td>1</td>\n",
       "      <td>0</td>\n",
       "      <td>0.320548</td>\n",
       "    </tr>\n",
       "    <tr>\n",
       "      <th>7325</th>\n",
       "      <td>51.0</td>\n",
       "      <td>62000.0</td>\n",
       "      <td>1</td>\n",
       "      <td>0</td>\n",
       "      <td>0</td>\n",
       "      <td>0.265753</td>\n",
       "    </tr>\n",
       "    <tr>\n",
       "      <th>4217</th>\n",
       "      <td>47.0</td>\n",
       "      <td>30000.0</td>\n",
       "      <td>1</td>\n",
       "      <td>0</td>\n",
       "      <td>0</td>\n",
       "      <td>2.961644</td>\n",
       "    </tr>\n",
       "    <tr>\n",
       "      <th>13002</th>\n",
       "      <td>63.0</td>\n",
       "      <td>117000.0</td>\n",
       "      <td>0</td>\n",
       "      <td>1</td>\n",
       "      <td>0</td>\n",
       "      <td>0.093151</td>\n",
       "    </tr>\n",
       "    <tr>\n",
       "      <th>...</th>\n",
       "      <td>...</td>\n",
       "      <td>...</td>\n",
       "      <td>...</td>\n",
       "      <td>...</td>\n",
       "      <td>...</td>\n",
       "      <td>...</td>\n",
       "    </tr>\n",
       "    <tr>\n",
       "      <th>15207</th>\n",
       "      <td>80.0</td>\n",
       "      <td>74000.0</td>\n",
       "      <td>0</td>\n",
       "      <td>1</td>\n",
       "      <td>0</td>\n",
       "      <td>0.583562</td>\n",
       "    </tr>\n",
       "    <tr>\n",
       "      <th>16753</th>\n",
       "      <td>60.0</td>\n",
       "      <td>98000.0</td>\n",
       "      <td>0</td>\n",
       "      <td>1</td>\n",
       "      <td>0</td>\n",
       "      <td>1.339726</td>\n",
       "    </tr>\n",
       "    <tr>\n",
       "      <th>10634</th>\n",
       "      <td>38.0</td>\n",
       "      <td>44000.0</td>\n",
       "      <td>0</td>\n",
       "      <td>1</td>\n",
       "      <td>0</td>\n",
       "      <td>0.887671</td>\n",
       "    </tr>\n",
       "    <tr>\n",
       "      <th>403</th>\n",
       "      <td>49.0</td>\n",
       "      <td>104000.0</td>\n",
       "      <td>0</td>\n",
       "      <td>1</td>\n",
       "      <td>0</td>\n",
       "      <td>0.356164</td>\n",
       "    </tr>\n",
       "    <tr>\n",
       "      <th>14076</th>\n",
       "      <td>70.0</td>\n",
       "      <td>66000.0</td>\n",
       "      <td>0</td>\n",
       "      <td>1</td>\n",
       "      <td>0</td>\n",
       "      <td>0.534247</td>\n",
       "    </tr>\n",
       "  </tbody>\n",
       "</table>\n",
       "<p>1670 rows × 6 columns</p>\n",
       "</div>"
      ],
      "text/plain": [
       "        age    income  gender_F  gender_M  gender_O  customer_duration\n",
       "11645  54.0   55000.0         0         1         0           2.331507\n",
       "4380   41.0   53000.0         0         1         0           0.320548\n",
       "7325   51.0   62000.0         1         0         0           0.265753\n",
       "4217   47.0   30000.0         1         0         0           2.961644\n",
       "13002  63.0  117000.0         0         1         0           0.093151\n",
       "...     ...       ...       ...       ...       ...                ...\n",
       "15207  80.0   74000.0         0         1         0           0.583562\n",
       "16753  60.0   98000.0         0         1         0           1.339726\n",
       "10634  38.0   44000.0         0         1         0           0.887671\n",
       "403    49.0  104000.0         0         1         0           0.356164\n",
       "14076  70.0   66000.0         0         1         0           0.534247\n",
       "\n",
       "[1670 rows x 6 columns]"
      ]
     },
     "execution_count": 22,
     "metadata": {},
     "output_type": "execute_result"
    }
   ],
   "source": [
    "knn_models[1]['X_test']"
   ]
  },
  {
   "cell_type": "code",
   "execution_count": 30,
   "id": "14ae07a5-eafb-4e23-8696-b8a9ee6b6383",
   "metadata": {},
   "outputs": [],
   "source": [
    "test = np.array([[32, 0, 0, 1, 0, 5]])"
   ]
  },
  {
   "cell_type": "code",
   "execution_count": 31,
   "id": "4dee950e-c2ca-452d-8eec-fe4e58d74b93",
   "metadata": {},
   "outputs": [
    {
     "data": {
      "text/plain": [
       "array([[32,  0,  0,  1,  0,  5]])"
      ]
     },
     "execution_count": 31,
     "metadata": {},
     "output_type": "execute_result"
    }
   ],
   "source": [
    "test"
   ]
  },
  {
   "cell_type": "code",
   "execution_count": 36,
   "id": "ac601e87-2128-418f-a2e6-5a82ae13ee47",
   "metadata": {},
   "outputs": [
    {
     "name": "stdout",
     "output_type": "stream",
     "text": [
      "Offer: 1. Prediction: 0\n",
      "Offer: 2. Prediction: 0\n",
      "Offer: 3. Prediction: 1\n",
      "Offer: 4. Prediction: 1\n",
      "Offer: 5. Prediction: 0\n",
      "Offer: 6. Prediction: 1\n",
      "Offer: 7. Prediction: 1\n",
      "Offer: 8. Prediction: 1\n",
      "Offer: 9. Prediction: 1\n",
      "Offer: 10. Prediction: 1\n"
     ]
    }
   ],
   "source": [
    "for offer in knn_models.keys():\n",
    "    print(f\"Offer: {offer}. Prediction: {knn_models[offer]['model'].predict(test)[0]}\")"
   ]
  },
  {
   "cell_type": "code",
   "execution_count": 39,
   "id": "05ff2ed3-d374-4520-b2f0-437193e9096f",
   "metadata": {},
   "outputs": [],
   "source": [
    "test2 = np.array([[32, 0, 1, 0, 0, 5]])"
   ]
  },
  {
   "cell_type": "code",
   "execution_count": 40,
   "id": "5ec23e20-3be5-43f9-b1c4-848f80384633",
   "metadata": {},
   "outputs": [
    {
     "name": "stdout",
     "output_type": "stream",
     "text": [
      "Offer: 1. Prediction: 0\n",
      "Offer: 2. Prediction: 0\n",
      "Offer: 3. Prediction: 0\n",
      "Offer: 4. Prediction: 1\n",
      "Offer: 5. Prediction: 1\n",
      "Offer: 6. Prediction: 1\n",
      "Offer: 7. Prediction: 1\n",
      "Offer: 8. Prediction: 1\n",
      "Offer: 9. Prediction: 1\n",
      "Offer: 10. Prediction: 1\n"
     ]
    }
   ],
   "source": [
    "for offer in knn_models.keys():\n",
    "    print(f\"Offer: {offer}. Prediction: {knn_models[offer]['model'].predict(test2)[0]}\")"
   ]
  },
  {
   "cell_type": "code",
   "execution_count": 23,
   "id": "2022c770-7e4d-49f9-9a36-017a2279739e",
   "metadata": {},
   "outputs": [],
   "source": [
    "test = knn_models[1]['X_test'].iloc[0,:]"
   ]
  },
  {
   "cell_type": "code",
   "execution_count": 25,
   "id": "00048268-b915-460c-a700-45d615f4eab8",
   "metadata": {},
   "outputs": [
    {
     "name": "stderr",
     "output_type": "stream",
     "text": [
      "/home/andrew/anaconda3/envs/dsci/lib/python3.9/site-packages/pandas/core/indexing.py:1637: SettingWithCopyWarning: \n",
      "A value is trying to be set on a copy of a slice from a DataFrame\n",
      "\n",
      "See the caveats in the documentation: https://pandas.pydata.org/pandas-docs/stable/user_guide/indexing.html#returning-a-view-versus-a-copy\n",
      "  self._setitem_single_block(indexer, value, name)\n"
     ]
    },
    {
     "ename": "ValueError",
     "evalue": "setting an array element with a sequence.",
     "output_type": "error",
     "traceback": [
      "\u001b[0;31m---------------------------------------------------------------------------\u001b[0m",
      "\u001b[0;31mTypeError\u001b[0m                                 Traceback (most recent call last)",
      "\u001b[0;32m~/anaconda3/envs/dsci/lib/python3.9/site-packages/pandas/core/series.py\u001b[0m in \u001b[0;36mwrapper\u001b[0;34m(self)\u001b[0m\n\u001b[1;32m    140\u001b[0m             \u001b[0;32mreturn\u001b[0m \u001b[0mconverter\u001b[0m\u001b[0;34m(\u001b[0m\u001b[0mself\u001b[0m\u001b[0;34m.\u001b[0m\u001b[0miloc\u001b[0m\u001b[0;34m[\u001b[0m\u001b[0;36m0\u001b[0m\u001b[0;34m]\u001b[0m\u001b[0;34m)\u001b[0m\u001b[0;34m\u001b[0m\u001b[0;34m\u001b[0m\u001b[0m\n\u001b[0;32m--> 141\u001b[0;31m         \u001b[0;32mraise\u001b[0m \u001b[0mTypeError\u001b[0m\u001b[0;34m(\u001b[0m\u001b[0;34mf\"cannot convert the series to {converter}\"\u001b[0m\u001b[0;34m)\u001b[0m\u001b[0;34m\u001b[0m\u001b[0;34m\u001b[0m\u001b[0m\n\u001b[0m\u001b[1;32m    142\u001b[0m \u001b[0;34m\u001b[0m\u001b[0m\n",
      "\u001b[0;31mTypeError\u001b[0m: cannot convert the series to <class 'float'>",
      "\nThe above exception was the direct cause of the following exception:\n",
      "\u001b[0;31mValueError\u001b[0m                                Traceback (most recent call last)",
      "\u001b[0;32m<ipython-input-25-e16ae71f5484>\u001b[0m in \u001b[0;36m<module>\u001b[0;34m\u001b[0m\n\u001b[0;32m----> 1\u001b[0;31m \u001b[0mtest\u001b[0m\u001b[0;34m.\u001b[0m\u001b[0miloc\u001b[0m\u001b[0;34m[\u001b[0m\u001b[0;36m0\u001b[0m\u001b[0;34m]\u001b[0m \u001b[0;34m=\u001b[0m \u001b[0mpd\u001b[0m\u001b[0;34m.\u001b[0m\u001b[0mSeries\u001b[0m\u001b[0;34m(\u001b[0m\u001b[0;34m[\u001b[0m\u001b[0;36m32\u001b[0m\u001b[0;34m,\u001b[0m \u001b[0;36m0\u001b[0m\u001b[0;34m,\u001b[0m \u001b[0;36m0\u001b[0m\u001b[0;34m,\u001b[0m \u001b[0;36m1\u001b[0m\u001b[0;34m,\u001b[0m \u001b[0;36m0\u001b[0m\u001b[0;34m,\u001b[0m \u001b[0;36m5\u001b[0m\u001b[0;34m]\u001b[0m\u001b[0;34m)\u001b[0m\u001b[0;34m\u001b[0m\u001b[0;34m\u001b[0m\u001b[0m\n\u001b[0m",
      "\u001b[0;32m~/anaconda3/envs/dsci/lib/python3.9/site-packages/pandas/core/indexing.py\u001b[0m in \u001b[0;36m__setitem__\u001b[0;34m(self, key, value)\u001b[0m\n\u001b[1;32m    690\u001b[0m \u001b[0;34m\u001b[0m\u001b[0m\n\u001b[1;32m    691\u001b[0m         \u001b[0miloc\u001b[0m \u001b[0;34m=\u001b[0m \u001b[0mself\u001b[0m \u001b[0;32mif\u001b[0m \u001b[0mself\u001b[0m\u001b[0;34m.\u001b[0m\u001b[0mname\u001b[0m \u001b[0;34m==\u001b[0m \u001b[0;34m\"iloc\"\u001b[0m \u001b[0;32melse\u001b[0m \u001b[0mself\u001b[0m\u001b[0;34m.\u001b[0m\u001b[0mobj\u001b[0m\u001b[0;34m.\u001b[0m\u001b[0miloc\u001b[0m\u001b[0;34m\u001b[0m\u001b[0;34m\u001b[0m\u001b[0m\n\u001b[0;32m--> 692\u001b[0;31m         \u001b[0miloc\u001b[0m\u001b[0;34m.\u001b[0m\u001b[0m_setitem_with_indexer\u001b[0m\u001b[0;34m(\u001b[0m\u001b[0mindexer\u001b[0m\u001b[0;34m,\u001b[0m \u001b[0mvalue\u001b[0m\u001b[0;34m,\u001b[0m \u001b[0mself\u001b[0m\u001b[0;34m.\u001b[0m\u001b[0mname\u001b[0m\u001b[0;34m)\u001b[0m\u001b[0;34m\u001b[0m\u001b[0;34m\u001b[0m\u001b[0m\n\u001b[0m\u001b[1;32m    693\u001b[0m \u001b[0;34m\u001b[0m\u001b[0m\n\u001b[1;32m    694\u001b[0m     \u001b[0;32mdef\u001b[0m \u001b[0m_validate_key\u001b[0m\u001b[0;34m(\u001b[0m\u001b[0mself\u001b[0m\u001b[0;34m,\u001b[0m \u001b[0mkey\u001b[0m\u001b[0;34m,\u001b[0m \u001b[0maxis\u001b[0m\u001b[0;34m:\u001b[0m \u001b[0mint\u001b[0m\u001b[0;34m)\u001b[0m\u001b[0;34m:\u001b[0m\u001b[0;34m\u001b[0m\u001b[0;34m\u001b[0m\u001b[0m\n",
      "\u001b[0;32m~/anaconda3/envs/dsci/lib/python3.9/site-packages/pandas/core/indexing.py\u001b[0m in \u001b[0;36m_setitem_with_indexer\u001b[0;34m(self, indexer, value, name)\u001b[0m\n\u001b[1;32m   1635\u001b[0m             \u001b[0mself\u001b[0m\u001b[0;34m.\u001b[0m\u001b[0m_setitem_with_indexer_split_path\u001b[0m\u001b[0;34m(\u001b[0m\u001b[0mindexer\u001b[0m\u001b[0;34m,\u001b[0m \u001b[0mvalue\u001b[0m\u001b[0;34m,\u001b[0m \u001b[0mname\u001b[0m\u001b[0;34m)\u001b[0m\u001b[0;34m\u001b[0m\u001b[0;34m\u001b[0m\u001b[0m\n\u001b[1;32m   1636\u001b[0m         \u001b[0;32melse\u001b[0m\u001b[0;34m:\u001b[0m\u001b[0;34m\u001b[0m\u001b[0;34m\u001b[0m\u001b[0m\n\u001b[0;32m-> 1637\u001b[0;31m             \u001b[0mself\u001b[0m\u001b[0;34m.\u001b[0m\u001b[0m_setitem_single_block\u001b[0m\u001b[0;34m(\u001b[0m\u001b[0mindexer\u001b[0m\u001b[0;34m,\u001b[0m \u001b[0mvalue\u001b[0m\u001b[0;34m,\u001b[0m \u001b[0mname\u001b[0m\u001b[0;34m)\u001b[0m\u001b[0;34m\u001b[0m\u001b[0;34m\u001b[0m\u001b[0m\n\u001b[0m\u001b[1;32m   1638\u001b[0m \u001b[0;34m\u001b[0m\u001b[0m\n\u001b[1;32m   1639\u001b[0m     \u001b[0;32mdef\u001b[0m \u001b[0m_setitem_with_indexer_split_path\u001b[0m\u001b[0;34m(\u001b[0m\u001b[0mself\u001b[0m\u001b[0;34m,\u001b[0m \u001b[0mindexer\u001b[0m\u001b[0;34m,\u001b[0m \u001b[0mvalue\u001b[0m\u001b[0;34m,\u001b[0m \u001b[0mname\u001b[0m\u001b[0;34m:\u001b[0m \u001b[0mstr\u001b[0m\u001b[0;34m)\u001b[0m\u001b[0;34m:\u001b[0m\u001b[0;34m\u001b[0m\u001b[0;34m\u001b[0m\u001b[0m\n",
      "\u001b[0;32m~/anaconda3/envs/dsci/lib/python3.9/site-packages/pandas/core/indexing.py\u001b[0m in \u001b[0;36m_setitem_single_block\u001b[0;34m(self, indexer, value, name)\u001b[0m\n\u001b[1;32m   1859\u001b[0m         \u001b[0;31m# actually do the set\u001b[0m\u001b[0;34m\u001b[0m\u001b[0;34m\u001b[0m\u001b[0;34m\u001b[0m\u001b[0m\n\u001b[1;32m   1860\u001b[0m         \u001b[0mself\u001b[0m\u001b[0;34m.\u001b[0m\u001b[0mobj\u001b[0m\u001b[0;34m.\u001b[0m\u001b[0m_consolidate_inplace\u001b[0m\u001b[0;34m(\u001b[0m\u001b[0;34m)\u001b[0m\u001b[0;34m\u001b[0m\u001b[0;34m\u001b[0m\u001b[0m\n\u001b[0;32m-> 1861\u001b[0;31m         \u001b[0mself\u001b[0m\u001b[0;34m.\u001b[0m\u001b[0mobj\u001b[0m\u001b[0;34m.\u001b[0m\u001b[0m_mgr\u001b[0m \u001b[0;34m=\u001b[0m \u001b[0mself\u001b[0m\u001b[0;34m.\u001b[0m\u001b[0mobj\u001b[0m\u001b[0;34m.\u001b[0m\u001b[0m_mgr\u001b[0m\u001b[0;34m.\u001b[0m\u001b[0msetitem\u001b[0m\u001b[0;34m(\u001b[0m\u001b[0mindexer\u001b[0m\u001b[0;34m=\u001b[0m\u001b[0mindexer\u001b[0m\u001b[0;34m,\u001b[0m \u001b[0mvalue\u001b[0m\u001b[0;34m=\u001b[0m\u001b[0mvalue\u001b[0m\u001b[0;34m)\u001b[0m\u001b[0;34m\u001b[0m\u001b[0;34m\u001b[0m\u001b[0m\n\u001b[0m\u001b[1;32m   1862\u001b[0m         \u001b[0mself\u001b[0m\u001b[0;34m.\u001b[0m\u001b[0mobj\u001b[0m\u001b[0;34m.\u001b[0m\u001b[0m_maybe_update_cacher\u001b[0m\u001b[0;34m(\u001b[0m\u001b[0mclear\u001b[0m\u001b[0;34m=\u001b[0m\u001b[0;32mTrue\u001b[0m\u001b[0;34m)\u001b[0m\u001b[0;34m\u001b[0m\u001b[0;34m\u001b[0m\u001b[0m\n\u001b[1;32m   1863\u001b[0m \u001b[0;34m\u001b[0m\u001b[0m\n",
      "\u001b[0;32m~/anaconda3/envs/dsci/lib/python3.9/site-packages/pandas/core/internals/managers.py\u001b[0m in \u001b[0;36msetitem\u001b[0;34m(self, indexer, value)\u001b[0m\n\u001b[1;32m    566\u001b[0m \u001b[0;34m\u001b[0m\u001b[0m\n\u001b[1;32m    567\u001b[0m     \u001b[0;32mdef\u001b[0m \u001b[0msetitem\u001b[0m\u001b[0;34m(\u001b[0m\u001b[0mself\u001b[0m\u001b[0;34m,\u001b[0m \u001b[0mindexer\u001b[0m\u001b[0;34m,\u001b[0m \u001b[0mvalue\u001b[0m\u001b[0;34m)\u001b[0m \u001b[0;34m->\u001b[0m \u001b[0;34m\"BlockManager\"\u001b[0m\u001b[0;34m:\u001b[0m\u001b[0;34m\u001b[0m\u001b[0;34m\u001b[0m\u001b[0m\n\u001b[0;32m--> 568\u001b[0;31m         \u001b[0;32mreturn\u001b[0m \u001b[0mself\u001b[0m\u001b[0;34m.\u001b[0m\u001b[0mapply\u001b[0m\u001b[0;34m(\u001b[0m\u001b[0;34m\"setitem\"\u001b[0m\u001b[0;34m,\u001b[0m \u001b[0mindexer\u001b[0m\u001b[0;34m=\u001b[0m\u001b[0mindexer\u001b[0m\u001b[0;34m,\u001b[0m \u001b[0mvalue\u001b[0m\u001b[0;34m=\u001b[0m\u001b[0mvalue\u001b[0m\u001b[0;34m)\u001b[0m\u001b[0;34m\u001b[0m\u001b[0;34m\u001b[0m\u001b[0m\n\u001b[0m\u001b[1;32m    569\u001b[0m \u001b[0;34m\u001b[0m\u001b[0m\n\u001b[1;32m    570\u001b[0m     \u001b[0;32mdef\u001b[0m \u001b[0mputmask\u001b[0m\u001b[0;34m(\u001b[0m\u001b[0mself\u001b[0m\u001b[0;34m,\u001b[0m \u001b[0mmask\u001b[0m\u001b[0;34m,\u001b[0m \u001b[0mnew\u001b[0m\u001b[0;34m,\u001b[0m \u001b[0malign\u001b[0m\u001b[0;34m:\u001b[0m \u001b[0mbool\u001b[0m \u001b[0;34m=\u001b[0m \u001b[0;32mTrue\u001b[0m\u001b[0;34m,\u001b[0m \u001b[0maxis\u001b[0m\u001b[0;34m:\u001b[0m \u001b[0mint\u001b[0m \u001b[0;34m=\u001b[0m \u001b[0;36m0\u001b[0m\u001b[0;34m)\u001b[0m\u001b[0;34m:\u001b[0m\u001b[0;34m\u001b[0m\u001b[0;34m\u001b[0m\u001b[0m\n",
      "\u001b[0;32m~/anaconda3/envs/dsci/lib/python3.9/site-packages/pandas/core/internals/managers.py\u001b[0m in \u001b[0;36mapply\u001b[0;34m(self, f, align_keys, ignore_failures, **kwargs)\u001b[0m\n\u001b[1;32m    425\u001b[0m                     \u001b[0mapplied\u001b[0m \u001b[0;34m=\u001b[0m \u001b[0mb\u001b[0m\u001b[0;34m.\u001b[0m\u001b[0mapply\u001b[0m\u001b[0;34m(\u001b[0m\u001b[0mf\u001b[0m\u001b[0;34m,\u001b[0m \u001b[0;34m**\u001b[0m\u001b[0mkwargs\u001b[0m\u001b[0;34m)\u001b[0m\u001b[0;34m\u001b[0m\u001b[0;34m\u001b[0m\u001b[0m\n\u001b[1;32m    426\u001b[0m                 \u001b[0;32melse\u001b[0m\u001b[0;34m:\u001b[0m\u001b[0;34m\u001b[0m\u001b[0;34m\u001b[0m\u001b[0m\n\u001b[0;32m--> 427\u001b[0;31m                     \u001b[0mapplied\u001b[0m \u001b[0;34m=\u001b[0m \u001b[0mgetattr\u001b[0m\u001b[0;34m(\u001b[0m\u001b[0mb\u001b[0m\u001b[0;34m,\u001b[0m \u001b[0mf\u001b[0m\u001b[0;34m)\u001b[0m\u001b[0;34m(\u001b[0m\u001b[0;34m**\u001b[0m\u001b[0mkwargs\u001b[0m\u001b[0;34m)\u001b[0m\u001b[0;34m\u001b[0m\u001b[0;34m\u001b[0m\u001b[0m\n\u001b[0m\u001b[1;32m    428\u001b[0m             \u001b[0;32mexcept\u001b[0m \u001b[0;34m(\u001b[0m\u001b[0mTypeError\u001b[0m\u001b[0;34m,\u001b[0m \u001b[0mNotImplementedError\u001b[0m\u001b[0;34m)\u001b[0m\u001b[0;34m:\u001b[0m\u001b[0;34m\u001b[0m\u001b[0;34m\u001b[0m\u001b[0m\n\u001b[1;32m    429\u001b[0m                 \u001b[0;32mif\u001b[0m \u001b[0;32mnot\u001b[0m \u001b[0mignore_failures\u001b[0m\u001b[0;34m:\u001b[0m\u001b[0;34m\u001b[0m\u001b[0;34m\u001b[0m\u001b[0m\n",
      "\u001b[0;32m~/anaconda3/envs/dsci/lib/python3.9/site-packages/pandas/core/internals/blocks.py\u001b[0m in \u001b[0;36msetitem\u001b[0;34m(self, indexer, value)\u001b[0m\n\u001b[1;32m   1010\u001b[0m             \u001b[0;31m# setting a single element for each dim and with a rhs that could\u001b[0m\u001b[0;34m\u001b[0m\u001b[0;34m\u001b[0m\u001b[0;34m\u001b[0m\u001b[0m\n\u001b[1;32m   1011\u001b[0m             \u001b[0;31m#  be e.g. a list; see GH#6043\u001b[0m\u001b[0;34m\u001b[0m\u001b[0;34m\u001b[0m\u001b[0;34m\u001b[0m\u001b[0m\n\u001b[0;32m-> 1012\u001b[0;31m             \u001b[0mvalues\u001b[0m\u001b[0;34m[\u001b[0m\u001b[0mindexer\u001b[0m\u001b[0;34m]\u001b[0m \u001b[0;34m=\u001b[0m \u001b[0mvalue\u001b[0m\u001b[0;34m\u001b[0m\u001b[0;34m\u001b[0m\u001b[0m\n\u001b[0m\u001b[1;32m   1013\u001b[0m \u001b[0;34m\u001b[0m\u001b[0m\n\u001b[1;32m   1014\u001b[0m         \u001b[0;32melif\u001b[0m \u001b[0mexact_match\u001b[0m \u001b[0;32mand\u001b[0m \u001b[0mis_categorical_dtype\u001b[0m\u001b[0;34m(\u001b[0m\u001b[0marr_value\u001b[0m\u001b[0;34m.\u001b[0m\u001b[0mdtype\u001b[0m\u001b[0;34m)\u001b[0m\u001b[0;34m:\u001b[0m\u001b[0;34m\u001b[0m\u001b[0;34m\u001b[0m\u001b[0m\n",
      "\u001b[0;31mValueError\u001b[0m: setting an array element with a sequence."
     ]
    }
   ],
   "source": [
    "test.iloc[0] = pd.Series([32, 0, 0, 1, 0, 5])"
   ]
  },
  {
   "cell_type": "code",
   "execution_count": null,
   "id": "abc7c7a0-f417-414c-98d6-6150b97a45a0",
   "metadata": {},
   "outputs": [],
   "source": [
    "knn_model = build_KNN_pipeline_and_fit_CV(X_train, y_train, verbosity=1)"
   ]
  },
  {
   "cell_type": "code",
   "execution_count": null,
   "id": "7b2afbfe-fdab-4e24-a5a9-f93e1e89779a",
   "metadata": {},
   "outputs": [],
   "source": [
    "train_score, validation_score = get_CV_model_scores(knn_model)"
   ]
  },
  {
   "cell_type": "code",
   "execution_count": null,
   "id": "4e170164-6d27-4c98-b9dc-74e0bc291ea7",
   "metadata": {},
   "outputs": [],
   "source": [
    "n_neighbors = [e['knn__n_neighbors'] for e in model.cv_results_['params']]"
   ]
  },
  {
   "cell_type": "code",
   "execution_count": null,
   "id": "6ed7b2c0-4e17-4b87-9820-886e7fc5cbf5",
   "metadata": {},
   "outputs": [],
   "source": [
    "fig, ax = plt.subplots(figsize=(20,20))\n",
    "param = 'knn__n_neighbors'\n",
    "sns.lineplot(ax=ax, x=n_neighbors, y=train_score, label='train')\n",
    "sns.lineplot(ax=ax, x=n_neighbors, y=validation_score, label='validation')\n",
    "ax.axvline(model.best_params_[param])\n",
    "ax.set_xlabel(param)\n",
    "ax.set_ylabel('f1 score')"
   ]
  },
  {
   "cell_type": "code",
   "execution_count": 20,
   "id": "9e675719-43be-491f-b266-437a9c4826f1",
   "metadata": {},
   "outputs": [],
   "source": [
    "def build_RFC_pipeline_and_fit_CV(X_train,\n",
    "                                  y_train,\n",
    "                                  verbosity=3,\n",
    "                                  param_grid=[{'rfc__n_estimators': [10, 100],\n",
    "                                               'rfc__max_depth': [100, None],\n",
    "                                               'rfc__min_samples_split': [2, 5, 10, 20],\n",
    "                                               'rfc__min_samples_leaf': [1, 2, 4, 8]\n",
    "                                             }],\n",
    "                                  random_state=7):\n",
    "    \"\"\"\n",
    "    Builds a random forest classifier and fits on training data with cross validation.\n",
    "    \n",
    "    Standardizes X data first before feeding into a RF model.\n",
    "    \n",
    "    See https://towardsdatascience.com/hyperparameter-tuning-the-random-forest-in-python-using-scikit-learn-28d2aa77dd74\n",
    "    for hyperparameter tuning example.\n",
    "    \n",
    "    Input:\n",
    "    X_train          - Training data features.\n",
    "    y_train          - Training data targets.\n",
    "    verbosity        - 0, 1, 2, or 3 to control GridSearchCV output.\n",
    "    param_grid       - Search grid for the RF model. Prefix params with 'rfc__'.\n",
    "    random_state     - random int for the RF model.\n",
    "    \n",
    "    Returns:\n",
    "    model            - a GridSearchCV model.\n",
    "    \"\"\"\n",
    "    pipe = Pipeline([('scaler', StandardScaler()),\n",
    "                         ('rfc', RandomForestClassifier())])\n",
    "    \n",
    " \n",
    "    \n",
    "    model = GridSearchCV(pipe, scoring='f1', param_grid=param_grid, cv=5, refit=True, verbose=verbosity, return_train_score=True)\n",
    "    \n",
    "    model.fit(X_train, y_train)\n",
    "    \n",
    "    print(f\"Best params: {model.best_params_}.\")\n",
    "    print(f\"Best score: {round(model.best_score_, 5)}.\")\n",
    "    \n",
    "    return model"
   ]
  },
  {
   "cell_type": "code",
   "execution_count": null,
   "id": "dc1cc314-5a27-491c-b6f2-cf77a2dc103b",
   "metadata": {},
   "outputs": [],
   "source": [
    "rfc_model = build_RFC_pipeline_and_fit_CV(X_train, y_train, verbosity=1)"
   ]
  },
  {
   "cell_type": "code",
   "execution_count": null,
   "id": "9dd1885e-8a19-4052-9f1f-a52fb9753636",
   "metadata": {},
   "outputs": [],
   "source": [
    "train_score, validation_score = get_CV_model_scores(rfc_model)"
   ]
  },
  {
   "cell_type": "code",
   "execution_count": null,
   "id": "35ba104a-ccbb-4ed3-94c2-3880c66b9857",
   "metadata": {},
   "outputs": [],
   "source": [
    "n_neighbors = [e['knn__n_neighbors'] for e in model.cv_results_['params']]"
   ]
  },
  {
   "cell_type": "code",
   "execution_count": null,
   "id": "965da450-17ec-4370-9cab-b143b23d10a9",
   "metadata": {},
   "outputs": [],
   "source": [
    "fig, ax = plt.subplots(figsize=(20,20))\n",
    "param = 'knn__n_neighbors'\n",
    "sns.lineplot(ax=ax, x=n_neighbors, y=train_score, label='train')\n",
    "sns.lineplot(ax=ax, x=n_neighbors, y=validation_score, label='validation')\n",
    "ax.axvline(model.best_params_[param])\n",
    "ax.set_xlabel(param)\n",
    "ax.set_ylabel('f1 score')"
   ]
  },
  {
   "cell_type": "code",
   "execution_count": null,
   "id": "efd4f34e-6f86-44e4-aba6-a869539548f0",
   "metadata": {},
   "outputs": [],
   "source": []
  },
  {
   "cell_type": "markdown",
   "id": "83984a3d-916c-4ae1-9935-b83932c388ea",
   "metadata": {},
   "source": [
    "## References\n",
    "\n",
    "https://towardsdatascience.com/hyperparameter-tuning-the-random-forest-in-python-using-scikit-learn-28d2aa77dd74"
   ]
  }
 ],
 "metadata": {
  "kernelspec": {
   "display_name": "Python 3.9.4 64-bit ('dsci': conda)",
   "language": "python",
   "name": "python394jvsc74a57bd0f0cece84d5b7094323c4cd37c9c6a7c87a529d4917679faac7fe812b406a8aca"
  },
  "language_info": {
   "codemirror_mode": {
    "name": "ipython",
    "version": 3
   },
   "file_extension": ".py",
   "mimetype": "text/x-python",
   "name": "python",
   "nbconvert_exporter": "python",
   "pygments_lexer": "ipython3",
   "version": "3.9.4"
  }
 },
 "nbformat": 4,
 "nbformat_minor": 5
}
